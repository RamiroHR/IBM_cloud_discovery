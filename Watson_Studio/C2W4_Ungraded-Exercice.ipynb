{
    "cells": [
        {
            "metadata": {
                "collapsed": true
            },
            "cell_type": "markdown",
            "source": "# My Jupyter Notebook on IBM Watson Studio"
        },
        {
            "metadata": {},
            "cell_type": "markdown",
            "source": "**Ramiro H. Rodriguez**  \nData scientist"
        },
        {
            "metadata": {},
            "cell_type": "markdown",
            "source": "_I am interetsed in data science because it is tackling the most challenging and interesting problems on society making use of machine learning and artificial intelligence. I am also interested in data science because it is a great playground where I can take advantage of the analytical skills I acquired as a quantum physicist to find innovative solutions._"
        },
        {
            "metadata": {},
            "cell_type": "markdown",
            "source": "### verify if an integer is even"
        },
        {
            "metadata": {},
            "cell_type": "code",
            "source": "def is_even(num: int) -> bool:\n    if num%2 == 0:\n        return True\n    else:\n        return False\n    \nnumber = 5\nprint(f'the number {number} is even: {is_even(number)}')",
            "execution_count": 25,
            "outputs": [
                {
                    "output_type": "stream",
                    "text": "the number 5 is even: False\n",
                    "name": "stdout"
                }
            ]
        },
        {
            "metadata": {},
            "cell_type": "markdown",
            "source": "### Some extra things \n---\nA Markdown cell can contain:\n* Nested bullet lists:\n* Ordered list such as:\n    1. first item\n    2. second item\n    3. third item  \n* An horizontal ruler as the one under this cell title.\n* Tables:  \n    | My            | Small         | Table                |\n    | ------------- |--------------:| :------------------: |\n    | 2nd col is    | right-aligned | $\\rightarrow $       |\n    | 3rd col is    | centered      |   \\$ 1234            |\n    | zebra stripes | \"-----\"       |  are neat            |\n    | 4rd col has   | a formula     | $E=\\hbar$ $\\omega_0$ |\n\n* hyperlinks to visit [my Github page](https://github.com/RamiroHR)\n* pictures, such as my identicon in Github: \n    ![image.png](attachment:image.png)\n\namong many other things...",
            "attachments": {
                "image.png": {
                    "image/png": "[encoded data removed]"
                }
            }
        },
        {
            "metadata": {},
            "cell_type": "code",
            "source": "",
            "execution_count": null,
            "outputs": []
        }
    ],
    "metadata": {
        "kernelspec": {
            "name": "python3",
            "display_name": "Python 3.10",
            "language": "python"
        },
        "language_info": {
            "name": "python",
            "version": "3.10.9",
            "mimetype": "text/x-python",
            "codemirror_mode": {
                "name": "ipython",
                "version": 3
            },
            "pygments_lexer": "ipython3",
            "nbconvert_exporter": "python",
            "file_extension": ".py"
        }
    },
    "nbformat": 4,
    "nbformat_minor": 1
}
